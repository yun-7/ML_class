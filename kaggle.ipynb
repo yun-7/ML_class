{
 "cells": [
  {
   "cell_type": "code",
   "execution_count": 1,
   "id": "2eb08f98-dd18-46f4-b358-dd90c4bc7ce6",
   "metadata": {
    "tags": []
   },
   "outputs": [],
   "source": [
    "import pandas as pd\n",
    "df = pd.read_csv(\"./kaggle_train_dataset.csv\")"
   ]
  },
  {
   "cell_type": "code",
   "execution_count": 2,
   "id": "daa08237-0882-421a-be8d-1a7e1833741d",
   "metadata": {
    "tags": []
   },
   "outputs": [],
   "source": [
    "x = df.drop(['Label', 'car', 'toCoupon_GEQ5min'], axis = 1)\n",
    "y = df['Label']"
   ]
  },
  {
   "cell_type": "code",
   "execution_count": 3,
   "id": "98df0c57-124f-4239-8828-09f5fc7c8095",
   "metadata": {
    "tags": []
   },
   "outputs": [],
   "source": [
    "# 根據其他樣本或特徵進行填充空值\n",
    "x = x.fillna(method=\"bfill\")"
   ]
  },
  {
   "cell_type": "code",
   "execution_count": 4,
   "id": "abd48812-d622-4668-a262-e7940ad120bd",
   "metadata": {
    "tags": []
   },
   "outputs": [
    {
     "data": {
      "text/plain": [
       "destination             0\n",
       "passanger               0\n",
       "weather                 0\n",
       "temperature             0\n",
       "time                    0\n",
       "coupon                  0\n",
       "expiration              0\n",
       "gender                  0\n",
       "age                     0\n",
       "maritalStatus           0\n",
       "has_children            0\n",
       "education               0\n",
       "occupation              0\n",
       "income                  0\n",
       "Bar                     0\n",
       "CoffeeHouse             0\n",
       "CarryAway               0\n",
       "RestaurantLessThan20    0\n",
       "Restaurant20To50        0\n",
       "toCoupon_GEQ15min       0\n",
       "toCoupon_GEQ25min       0\n",
       "direction_same          0\n",
       "direction_opp           0\n",
       "dtype: int64"
      ]
     },
     "execution_count": 4,
     "metadata": {},
     "output_type": "execute_result"
    }
   ],
   "source": [
    "x.isnull().sum()"
   ]
  },
  {
   "cell_type": "code",
   "execution_count": 5,
   "id": "6d10b389-c7d4-445c-9db3-e6b6c1ff1ef0",
   "metadata": {
    "tags": []
   },
   "outputs": [],
   "source": [
    "#destination處理\n",
    "x.loc[x['destination'] == 'No Urgent Place', 'destination'] = 0\n",
    "x.loc[x['destination'] == 'Home', 'destination'] = 1\n",
    "x.loc[x['destination'] == 'Work', 'destination'] = 2\n",
    "x['destination'] = x['destination'].astype(int)"
   ]
  },
  {
   "cell_type": "code",
   "execution_count": 6,
   "id": "cf55d61b-7b65-4e69-b250-3dede09a7c7c",
   "metadata": {
    "tags": []
   },
   "outputs": [],
   "source": [
    "#passanger\n",
    "x.loc[x['passanger'] == 'Alone', 'passanger'] = 0\n",
    "x.loc[x['passanger'] == 'Friend(s)', 'passanger'] = 1\n",
    "x.loc[x['passanger'] == 'Partner', 'passanger'] = 2\n",
    "x.loc[x['passanger'] == 'Kid(s)', 'passanger'] = 3\n",
    "x['passanger'] = x['passanger'].astype(int)"
   ]
  },
  {
   "cell_type": "code",
   "execution_count": 7,
   "id": "46f51f2f-2de6-4ab0-a4fb-b78d13d0220b",
   "metadata": {
    "tags": []
   },
   "outputs": [],
   "source": [
    "#weather處理\n",
    "x.loc[x['weather'] == 'Sunny', 'weather'] = 0\n",
    "x.loc[x['weather'] == 'Snowy', 'weather'] = 1\n",
    "x.loc[x['weather'] == 'Rainy', 'weather'] = 2\n",
    "x['weather'] = x['weather'].astype(int)"
   ]
  },
  {
   "cell_type": "code",
   "execution_count": 8,
   "id": "b180690f-1960-423e-b54d-a609619b3bb5",
   "metadata": {
    "tags": []
   },
   "outputs": [],
   "source": [
    "#time處理\n",
    "x.loc[x['time'] == '6PM', 'time'] = 18\n",
    "x.loc[x['time'] == '10PM', 'time'] = 22\n",
    "x.loc[x['time'] == '2PM', 'time'] = 14\n",
    "x.loc[x['time'] == '7AM', 'time'] = 7\n",
    "x.loc[x['time'] == '10AM', 'time'] = 10\n",
    "x['time'] = x['time'].astype(int)"
   ]
  },
  {
   "cell_type": "code",
   "execution_count": 9,
   "id": "30c33b41-8ed0-47f9-9715-aef6cec82ac4",
   "metadata": {
    "tags": []
   },
   "outputs": [],
   "source": [
    "#coupon\n",
    "x.loc[x['coupon'] == 'Coffee House', 'coupon'] = 0\n",
    "x.loc[x['coupon'] == 'Restaurant(<20)', 'coupon'] = 1\n",
    "x.loc[x['coupon'] == 'Carry out & Take away', 'coupon'] = 2\n",
    "x.loc[x['coupon'] == 'Bar', 'coupon'] = 3\n",
    "x.loc[x['coupon'] == 'Restaurant(20-50)', 'coupon'] = 4\n",
    "x['coupon'] = x['coupon'].astype(int)"
   ]
  },
  {
   "cell_type": "code",
   "execution_count": 10,
   "id": "5d4c0b4e-9487-42bc-9194-e7aa11f4658a",
   "metadata": {
    "tags": []
   },
   "outputs": [],
   "source": [
    "#expiration處理\n",
    "x.loc[x['expiration'] == '2h', 'expiration'] = 2\n",
    "x.loc[x['expiration'] == '1d', 'expiration'] = 24\n",
    "x['expiration'] = x['expiration'].astype(int)"
   ]
  },
  {
   "cell_type": "code",
   "execution_count": 11,
   "id": "1578605a-9e08-49da-a6ba-b4cbaf606a08",
   "metadata": {
    "tags": []
   },
   "outputs": [],
   "source": [
    "#gender\n",
    "x.loc[x['gender'] == 'Female', 'gender'] = 0\n",
    "x.loc[x['gender'] == 'Male', 'gender'] = 1\n",
    "x['gender'] = x['gender'].astype(int)"
   ]
  },
  {
   "cell_type": "code",
   "execution_count": 12,
   "id": "d78872e0-7b02-4171-81df-7e3bb26c64ee",
   "metadata": {
    "tags": []
   },
   "outputs": [],
   "source": [
    "#文字轉數值\n",
    "#age處理\n",
    "x.loc[x['age'] == '50plus', 'age'] = 55\n",
    "x.loc[x['age'] == 'below21', 'age'] = 18\n",
    "x['age'] = x['age'].astype(int)"
   ]
  },
  {
   "cell_type": "code",
   "execution_count": 13,
   "id": "fe05d10b-d4dc-4480-8402-9003230b2c6b",
   "metadata": {
    "tags": []
   },
   "outputs": [],
   "source": [
    "#maritalStatus: Unmarried partner, Single, Married partner, Divorced, Widowed\n",
    "x.loc[x['maritalStatus'] == 'Unmarried partner', 'maritalStatus'] = 0\n",
    "x.loc[x['maritalStatus'] == 'Single', 'maritalStatus'] = 1\n",
    "x.loc[x['maritalStatus'] == 'Married partner', 'maritalStatus'] = 2\n",
    "x.loc[x['maritalStatus'] == 'Divorced', 'maritalStatus'] = 3\n",
    "x.loc[x['maritalStatus'] == 'Widowed', 'maritalStatus'] = 4\n",
    "x['maritalStatus'] = x['maritalStatus'].astype(int)"
   ]
  },
  {
   "cell_type": "code",
   "execution_count": 14,
   "id": "39db5aa8-602f-49fb-b435-31d00072ab63",
   "metadata": {
    "tags": []
   },
   "outputs": [],
   "source": [
    "#education: Some college - no degree, Bachelors degree, Associates degree, High School Graduate, Graduate degree (Masters or Doctorate), Some High School\n",
    "x.loc[x['education'] == 'Some college - no degree', 'education'] = 0\n",
    "x.loc[x['education'] == 'Bachelors degree', 'education'] = 1\n",
    "x.loc[x['education'] == 'Associates degree', 'education'] = 2\n",
    "x.loc[x['education'] == 'High School Graduate', 'education'] = 3\n",
    "x.loc[x['education'] == 'Graduate degree (Masters or Doctorate)', 'education'] = 4\n",
    "x.loc[x['education'] == 'Some High School', 'education'] = 5\n",
    "x['education'] = x['education'].astype(int)"
   ]
  },
  {
   "cell_type": "code",
   "execution_count": 15,
   "id": "b023f9fd-19f2-4cf2-8738-e65c76d7a0eb",
   "metadata": {
    "tags": []
   },
   "outputs": [],
   "source": [
    "'''occupation: Unemployed, Architecture & Engineering, Student, Education&Training&Library, Healthcare Support, Healthcare Practitioners & Technical,\n",
    "            Sales & Related, Management, Arts Design Entertainment Sports & Media, Computer & Mathematical, Life Physical Social Science,\n",
    "            Personal Care & Service, Community & Social Services, Office & Administrative Support, Construction & Extraction, Legal, Retired,\n",
    "            Installation Maintenance & Repair, Transportation & Material Moving, Business & Financial, Protective Service, Food Preparation & Serving Related,\n",
    "            Production Occupations, Building & Grounds Cleaning & Maintenance, Farming Fishing & Forestry'''\n",
    "x.loc[x['occupation'] == 'Unemployed', 'occupation'] = 0\n",
    "x.loc[x['occupation'] == 'Architecture & Engineering', 'occupation'] = 1\n",
    "x.loc[x['occupation'] == 'Student', 'occupation'] = 2\n",
    "x.loc[x['occupation'] == 'Education&Training&Library', 'occupation'] = 3\n",
    "x.loc[x['occupation'] == 'Healthcare Support', 'occupation'] = 4\n",
    "x.loc[x['occupation'] == 'Healthcare Practitioners & Technical', 'occupation'] = 5\n",
    "x.loc[x['occupation'] == 'Sales & Related', 'occupation'] = 6\n",
    "x.loc[x['occupation'] == 'Management', 'occupation'] = 7\n",
    "x.loc[x['occupation'] == 'Arts Design Entertainment Sports & Media', 'occupation'] = 8\n",
    "x.loc[x['occupation'] == 'Computer & Mathematical', 'occupation'] = 9\n",
    "x.loc[x['occupation'] == 'Life Physical Social Science', 'occupation'] = 10\n",
    "x.loc[x['occupation'] == 'Personal Care & Service', 'occupation'] = 11\n",
    "x.loc[x['occupation'] == 'Community & Social Services', 'occupation'] = 12\n",
    "x.loc[x['occupation'] == 'Office & Administrative Support', 'occupation'] = 13\n",
    "x.loc[x['occupation'] == 'Construction & Extraction', 'occupation'] = 14\n",
    "x.loc[x['occupation'] == 'Legal', 'occupation'] = 15\n",
    "x.loc[x['occupation'] == 'Retired', 'occupation'] = 16\n",
    "x.loc[x['occupation'] == 'Production Occupations', 'occupation'] = 17\n",
    "x.loc[x['occupation'] == 'Building & Grounds Cleaning & Maintenance', 'occupation'] = 18\n",
    "x.loc[x['occupation'] == 'Farming Fishing & Forestry', 'occupation'] = 19\n",
    "x.loc[x['occupation'] == 'Food Preparation & Serving Related', 'occupation'] = 20\n",
    "x.loc[x['occupation'] == 'Installation Maintenance & Repair', 'occupation'] = 21\n",
    "x.loc[x['occupation'] == 'Transportation & Material Moving', 'occupation'] = 22\n",
    "x.loc[x['occupation'] == 'Business & Financial', 'occupation'] = 23\n",
    "x.loc[x['occupation'] == 'Protective Service', 'occupation'] = 24\n",
    "\n",
    "x['occupation'] = x['occupation'].astype(int)"
   ]
  },
  {
   "cell_type": "code",
   "execution_count": 16,
   "id": "41195e27-9333-4e26-97be-a5f17149866d",
   "metadata": {
    "tags": []
   },
   "outputs": [],
   "source": [
    "'''income: $37500 - $49999, $62500 - $74999, $12500 - $24999, $75000 - $87499, $50000 - $62499, $25000 - $37499,\n",
    "            $100000 or More, $87500 - $99999, Less than $12500'''\n",
    "x.loc[x['income'] == '$100000 or More', 'income'] = 0\n",
    "x.loc[x['income'] == '$87500 - $99999', 'income'] = 1\n",
    "x.loc[x['income'] == '$75000 - $87499', 'income'] = 2\n",
    "x.loc[x['income'] == '$62500 - $74999', 'income'] = 3\n",
    "x.loc[x['income'] == '$50000 - $62499', 'income'] = 4\n",
    "x.loc[x['income'] == '$37500 - $49999', 'income'] = 5\n",
    "x.loc[x['income'] == '$25000 - $37499', 'income'] = 6\n",
    "x.loc[x['income'] == '$12500 - $24999', 'income'] = 7\n",
    "x.loc[x['income'] == 'Less than $12500', 'income'] = 8\n",
    "x['income'] = x['income'].astype(int)"
   ]
  },
  {
   "cell_type": "code",
   "execution_count": 17,
   "id": "85b564f2-589d-46b0-b4f0-0d41b5e3e709",
   "metadata": {
    "tags": []
   },
   "outputs": [],
   "source": [
    "#Bar: never, less1, 1~3, gt8, nan, 4~8\n",
    "x.loc[x['Bar'] == 'never' , 'Bar'] = 0\n",
    "x.loc[x['Bar'] == 'less1' , 'Bar'] = 1\n",
    "x.loc[x['Bar'] == '1~3' , 'Bar'] = 2\n",
    "x.loc[x['Bar'] == '4~8' , 'Bar'] = 3\n",
    "x.loc[x['Bar'] == 'gt8' , 'Bar'] = 4\n",
    "x.loc[x['Bar'] == 'nan' , 'Bar'] = 5\n",
    "x['Bar'] = x['Bar'].astype(int)"
   ]
  },
  {
   "cell_type": "code",
   "execution_count": 18,
   "id": "af7ad339-92d1-4962-bb66-6510cef26c5c",
   "metadata": {
    "tags": []
   },
   "outputs": [],
   "source": [
    "#CoffeeHouse: never, less1, 4~8, 1~3, gt8, nan\n",
    "x.loc[x['CoffeeHouse'] == 'never' , 'CoffeeHouse'] = 0\n",
    "x.loc[x['CoffeeHouse'] == 'less1' , 'CoffeeHouse'] = 1\n",
    "x.loc[x['CoffeeHouse'] == '1~3' , 'CoffeeHouse'] = 2\n",
    "x.loc[x['CoffeeHouse'] == '4~8' , 'CoffeeHouse'] = 3\n",
    "x.loc[x['CoffeeHouse'] == 'gt8' , 'CoffeeHouse'] = 4\n",
    "x.loc[x['CoffeeHouse'] == 'nan' , 'CoffeeHouse'] = 5\n",
    "x['CoffeeHouse'] = x['CoffeeHouse'].astype(int)"
   ]
  },
  {
   "cell_type": "code",
   "execution_count": 19,
   "id": "8bebd4be-e224-47b6-8540-039da4cf8511",
   "metadata": {
    "tags": []
   },
   "outputs": [],
   "source": [
    "#CarryAway:n4~8, 1~3, gt8, less1, never\n",
    "x.loc[x['CarryAway'] == 'never' , 'CarryAway'] = 0\n",
    "x.loc[x['CarryAway'] == 'less1' , 'CarryAway'] = 1\n",
    "x.loc[x['CarryAway'] == '1~3' , 'CarryAway'] = 2\n",
    "x.loc[x['CarryAway'] == '4~8' , 'CarryAway'] = 3\n",
    "x.loc[x['CarryAway'] == 'gt8' , 'CarryAway'] = 4\n",
    "x.loc[x['CarryAway'] == 'nan' , 'CarryAway'] = 5\n",
    "x['CarryAway'] = x['CarryAway'].astype(int)"
   ]
  },
  {
   "cell_type": "code",
   "execution_count": 20,
   "id": "fb10c765-073e-42ee-94b0-c0d97ae2a766",
   "metadata": {
    "tags": []
   },
   "outputs": [],
   "source": [
    "#RestaurantLessThan20: 4~8, 1~3, less1, gt8, never\n",
    "x.loc[x['RestaurantLessThan20'] == 'never' , 'RestaurantLessThan20'] = 0\n",
    "x.loc[x['RestaurantLessThan20'] == 'less1' , 'RestaurantLessThan20'] = 1\n",
    "x.loc[x['RestaurantLessThan20'] == '1~3' , 'RestaurantLessThan20'] = 2\n",
    "x.loc[x['RestaurantLessThan20'] == '4~8' , 'RestaurantLessThan20'] = 3\n",
    "x.loc[x['RestaurantLessThan20'] == 'gt8' , 'RestaurantLessThan20'] = 4\n",
    "x.loc[x['RestaurantLessThan20'] == 'nan' , 'RestaurantLessThan20'] = 5\n",
    "x['RestaurantLessThan20'] = x['RestaurantLessThan20'].astype(int)"
   ]
  },
  {
   "cell_type": "code",
   "execution_count": 21,
   "id": "3f081699-5f09-4c58-8c40-8540d4fa4983",
   "metadata": {
    "tags": []
   },
   "outputs": [],
   "source": [
    "#Restaurant20To50: 1~3, less1, never, gt8, 4~8, nan\n",
    "x.loc[x['Restaurant20To50'] == 'never' , 'Restaurant20To50'] = 0\n",
    "x.loc[x['Restaurant20To50'] == 'less1' , 'Restaurant20To50'] = 1\n",
    "x.loc[x['Restaurant20To50'] == '1~3' , 'Restaurant20To50'] = 2\n",
    "x.loc[x['Restaurant20To50'] == '4~8' , 'Restaurant20To50'] = 3\n",
    "x.loc[x['Restaurant20To50'] == 'gt8' , 'Restaurant20To50'] = 4\n",
    "x.loc[x['Restaurant20To50'] == 'nan' , 'Restaurant20To50'] = 5\n",
    "x['Restaurant20To50'] = x['Restaurant20To50'].astype(int)"
   ]
  },
  {
   "cell_type": "code",
   "execution_count": 22,
   "id": "c8989e7d-fefe-4da3-ba6f-19580c2761d8",
   "metadata": {
    "tags": []
   },
   "outputs": [],
   "source": [
    "x_data = x.drop(['CarryAway'], axis=1)"
   ]
  },
  {
   "cell_type": "code",
   "execution_count": 34,
   "id": "9c253334-d20d-4f98-8850-a8692d12e2df",
   "metadata": {
    "tags": []
   },
   "outputs": [
    {
     "name": "stdout",
     "output_type": "stream",
     "text": [
      "              precision    recall  f1-score   support\n",
      "\n",
      "           0       0.75      0.68      0.71       882\n",
      "           1       0.77      0.83      0.80      1155\n",
      "\n",
      "    accuracy                           0.76      2037\n",
      "   macro avg       0.76      0.75      0.76      2037\n",
      "weighted avg       0.76      0.76      0.76      2037\n",
      "\n"
     ]
    }
   ],
   "source": [
    "import numpy as np\n",
    "from sklearn import preprocessing\n",
    "from sklearn import metrics\n",
    "from sklearn.model_selection import cross_val_score, train_test_split\n",
    "from sklearn.neighbors import KNeighborsClassifier\n",
    "from sklearn.ensemble import RandomForestClassifier\n",
    "import xgboost as xgb\n",
    "\n",
    "predicted = []\n",
    "expected = []\n",
    "\n",
    "\n",
    "\n",
    "model = xgb.XGBClassifier()\n",
    "x_train, x_test, y_train, y_test = train_test_split(x_data, y, stratify=y,random_state=42, test_size=0.2)\n",
    "\n",
    "scaler = preprocessing.StandardScaler().fit(x_train)\n",
    "x_train_scaled = scaler.fit_transform(x_train)\n",
    "x_test_scaled = scaler.transform(x_test)\n",
    "\n",
    "\n",
    "model.fit(x_train, y_train)\n",
    "\n",
    "expected.extend(y_test)\n",
    "predicted.extend(model.predict(x_test))\n",
    "print(metrics.classification_report(expected, predicted))"
   ]
  },
  {
   "cell_type": "code",
   "execution_count": 25,
   "id": "1901088c-514f-47bc-9fa0-ac7dbbdec203",
   "metadata": {
    "tags": []
   },
   "outputs": [
    {
     "data": {
      "text/plain": [
       "<Axes: title={'center': 'Feature importance'}, xlabel='F score', ylabel='Features'>"
      ]
     },
     "execution_count": 25,
     "metadata": {},
     "output_type": "execute_result"
    },
    {
     "data": {
      "image/png": "[encoded data removed]",
      "text/plain": [
       "<Figure size 640x480 with 1 Axes>"
      ]
     },
     "metadata": {},
     "output_type": "display_data"
    }
   ],
   "source": [
    "import matplotlib.pyplot as plt\n",
    "xgb.plot_importance(model)"
   ]
  },
  {
   "cell_type": "markdown",
   "id": "c5819761-804e-4b40-b04e-2f9f81ee5837",
   "metadata": {
    "tags": []
   },
   "source": [
    "import matplotlib.pyplot as plt\n",
    "feature_importances = pd.Series(model.feature_importances_, index= x.columns)\n",
    "feature_importances.nlargest(25).plot(kind='barh', figsize=(10,10))"
   ]
  },
  {
   "cell_type": "markdown",
   "id": "7f7715c7-9a38-4668-b7f3-0abebb3c65f9",
   "metadata": {},
   "source": [
    "### Adopt model to predict TEST DATA "
   ]
  },
  {
   "cell_type": "code",
   "execution_count": 26,
   "id": "14bd78ff-5b71-46c4-a78e-c57b78c2d2e8",
   "metadata": {
    "tags": []
   },
   "outputs": [],
   "source": [
    "import pandas as pd\n",
    "df = pd.read_csv(\"./kaggle_test_dataset.csv\", )\n",
    "x_test = df.drop(['car', 'toCoupon_GEQ5min', 'CarryAway'], axis = 1)"
   ]
  },
  {
   "cell_type": "code",
   "execution_count": 27,
   "id": "1f1b2030-6a29-4e5a-8bb7-707cd8fa3008",
   "metadata": {
    "tags": []
   },
   "outputs": [
    {
     "data": {
      "text/plain": [
       "destination             2500\n",
       "passanger               2500\n",
       "weather                 2500\n",
       "temperature             2500\n",
       "time                    2500\n",
       "coupon                  2500\n",
       "expiration              2500\n",
       "gender                  2500\n",
       "age                     2500\n",
       "maritalStatus           2500\n",
       "has_children            2500\n",
       "education               2500\n",
       "occupation              2500\n",
       "income                  2500\n",
       "Bar                     2500\n",
       "CoffeeHouse             2500\n",
       "RestaurantLessThan20    2500\n",
       "Restaurant20To50        2500\n",
       "toCoupon_GEQ15min       2500\n",
       "toCoupon_GEQ25min       2500\n",
       "direction_same          2500\n",
       "direction_opp           2500\n",
       "dtype: int64"
      ]
     },
     "execution_count": 27,
     "metadata": {},
     "output_type": "execute_result"
    }
   ],
   "source": [
    "x_test = x_test.fillna(method=\"bfill\")\n",
    "x_test.count()"
   ]
  },
  {
   "cell_type": "code",
   "execution_count": 28,
   "id": "ddbf5996-4b9f-40aa-9dfb-888ef1a060c6",
   "metadata": {
    "tags": []
   },
   "outputs": [
    {
     "data": {
      "text/plain": [
       "destination             0\n",
       "passanger               0\n",
       "weather                 0\n",
       "temperature             0\n",
       "time                    0\n",
       "coupon                  0\n",
       "expiration              0\n",
       "gender                  0\n",
       "age                     0\n",
       "maritalStatus           0\n",
       "has_children            0\n",
       "education               0\n",
       "occupation              0\n",
       "income                  0\n",
       "Bar                     0\n",
       "CoffeeHouse             0\n",
       "RestaurantLessThan20    0\n",
       "Restaurant20To50        0\n",
       "toCoupon_GEQ15min       0\n",
       "toCoupon_GEQ25min       0\n",
       "direction_same          0\n",
       "direction_opp           0\n",
       "dtype: int64"
      ]
     },
     "execution_count": 28,
     "metadata": {},
     "output_type": "execute_result"
    }
   ],
   "source": [
    "x_test.isnull().sum()"
   ]
  },
  {
   "cell_type": "code",
   "execution_count": 29,
   "id": "fde35402-211b-453b-af37-814d422f4614",
   "metadata": {},
   "outputs": [],
   "source": [
    "#destination處理\n",
    "x_test.loc[x_test['destination'] == 'No Urgent Place', 'destination'] = 0\n",
    "x_test.loc[x_test['destination'] == 'Home', 'destination'] = 1\n",
    "x_test.loc[x_test['destination'] == 'Work', 'destination'] = 2\n",
    "x_test['destination'] = x_test['destination'].astype(int)\n",
    "#passanger\n",
    "x_test.loc[x_test['passanger'] == 'Alone', 'passanger'] = 0\n",
    "x_test.loc[x_test['passanger'] == 'Friend(s)', 'passanger'] = 1\n",
    "x_test.loc[x_test['passanger'] == 'Partner', 'passanger'] = 2\n",
    "x_test.loc[x_test['passanger'] == 'Kid(s)', 'passanger'] = 3\n",
    "x_test['passanger'] = x_test['passanger'].astype(int)\n",
    "\n",
    "#weather處理\n",
    "x_test.loc[x_test['weather'] == 'Sunny', 'weather'] = 0\n",
    "x_test.loc[x_test['weather'] == 'Snowy', 'weather'] = 1\n",
    "x_test.loc[x_test['weather'] == 'Rainy', 'weather'] = 2\n",
    "x_test['weather'] = x_test['weather'].astype(int)\n",
    "\n",
    "\n",
    "#time處理\n",
    "x_test.loc[x_test['time'] == '6PM', 'time'] = 18\n",
    "x_test.loc[x_test['time'] == '10PM', 'time'] = 22\n",
    "x_test.loc[x_test['time'] == '2PM', 'time'] = 14\n",
    "x_test.loc[x_test['time'] == '7AM', 'time'] = 7\n",
    "x_test.loc[x_test['time'] == '10AM', 'time'] = 10\n",
    "x_test['time'] = x_test['time'].astype(int)\n",
    "\n",
    "#coupon\n",
    "x_test.loc[x_test['coupon'] == 'Coffee House', 'coupon'] = 0\n",
    "x_test.loc[x_test['coupon'] == 'Restaurant(<20)', 'coupon'] = 1\n",
    "x_test.loc[x_test['coupon'] == 'Carry out & Take away', 'coupon'] = 2\n",
    "x_test.loc[x_test['coupon'] == 'Bar', 'coupon'] = 3\n",
    "x_test.loc[x_test['coupon'] == 'Restaurant(20-50)', 'coupon'] = 4\n",
    "x_test['coupon'] = x_test['coupon'].astype(int)\n",
    "\n",
    "#expiration處理\n",
    "x_test.loc[x_test['expiration'] == '2h', 'expiration'] = 2\n",
    "x_test.loc[x_test['expiration'] == '1d', 'expiration'] = 24\n",
    "x_test['expiration'] = x_test['expiration'].astype(int)\n",
    "\n",
    "#gender\n",
    "x_test.loc[x_test['gender'] == 'Female', 'gender'] = 0\n",
    "x_test.loc[x_test['gender'] == 'Male', 'gender'] = 1\n",
    "x_test['gender'] = x_test['gender'].astype(int)\n",
    "\n",
    "#文字轉數值\n",
    "#age處理\n",
    "x_test.loc[x_test['age'] == '50plus', 'age'] = 55\n",
    "x_test.loc[x_test['age'] == 'below21', 'age'] = 18\n",
    "x_test['age'] = x_test['age'].astype(int)\n",
    "\n",
    "#maritalStatus: Unmarried partner, Single, Married partner, Divorced, Widowed\n",
    "x_test.loc[x_test['maritalStatus'] == 'Unmarried partner', 'maritalStatus'] = 0\n",
    "x_test.loc[x_test['maritalStatus'] == 'Single', 'maritalStatus'] = 1\n",
    "x_test.loc[x_test['maritalStatus'] == 'Married partner', 'maritalStatus'] = 2\n",
    "x_test.loc[x_test['maritalStatus'] == 'Divorced', 'maritalStatus'] = 3\n",
    "x_test.loc[x_test['maritalStatus'] == 'Widowed', 'maritalStatus'] = 4\n",
    "x_test['maritalStatus'] = x_test['maritalStatus'].astype(int)\n",
    "\n",
    "#education: Some college - no degree, Bachelors degree, Associates degree, High School Graduate, Graduate degree (Masters or Doctorate), Some High School\n",
    "x_test.loc[x_test['education'] == 'Some college - no degree', 'education'] = 0\n",
    "x_test.loc[x_test['education'] == 'Bachelors degree', 'education'] = 1\n",
    "x_test.loc[x_test['education'] == 'Associates degree', 'education'] = 2\n",
    "x_test.loc[x_test['education'] == 'High School Graduate', 'education'] = 3\n",
    "x_test.loc[x_test['education'] == 'Graduate degree (Masters or Doctorate)', 'education'] = 4\n",
    "x_test.loc[x_test['education'] == 'Some High School', 'education'] = 5\n",
    "x_test['education'] = x_test['education'].astype(int)\n",
    "\n",
    "'''occupation: Unemployed, Architecture & Engineering, Student, Education&Training&Library, Healthcare Support, Healthcare Practitioners & Technical,\n",
    "            Sales & Related, Management, Arts Design Entertainment Sports & Media, Computer & Mathematical, Life Physical Social Science,\n",
    "            Personal Care & Service, Community & Social Services, Office & Administrative Support, Construction & Extraction, Legal, Retired,\n",
    "            Installation Maintenance & Repair, Transportation & Material Moving, Business & Financial, Protective Service, Food Preparation & Serving Related,\n",
    "            Production Occupations, Building & Grounds Cleaning & Maintenance, Farming Fishing & Forestry'''\n",
    "x_test.loc[x_test['occupation'] == 'Unemployed', 'occupation'] = 0\n",
    "x_test.loc[x_test['occupation'] == 'Architecture & Engineering', 'occupation'] = 1\n",
    "x_test.loc[x_test['occupation'] == 'Student', 'occupation'] = 2\n",
    "x_test.loc[x_test['occupation'] == 'Education&Training&Library', 'occupation'] = 3\n",
    "x_test.loc[x_test['occupation'] == 'Healthcare Support', 'occupation'] = 4\n",
    "x_test.loc[x_test['occupation'] == 'Healthcare Practitioners & Technical', 'occupation'] = 5\n",
    "x_test.loc[x_test['occupation'] == 'Sales & Related', 'occupation'] = 6\n",
    "x_test.loc[x_test['occupation'] == 'Management', 'occupation'] = 7\n",
    "x_test.loc[x_test['occupation'] == 'Arts Design Entertainment Sports & Media', 'occupation'] = 8\n",
    "x_test.loc[x_test['occupation'] == 'Computer & Mathematical', 'occupation'] = 9\n",
    "x_test.loc[x_test['occupation'] == 'Life Physical Social Science', 'occupation'] = 10\n",
    "x_test.loc[x_test['occupation'] == 'Personal Care & Service', 'occupation'] = 11\n",
    "x_test.loc[x_test['occupation'] == 'Community & Social Services', 'occupation'] = 12\n",
    "x_test.loc[x_test['occupation'] == 'Office & Administrative Support', 'occupation'] = 13\n",
    "x_test.loc[x_test['occupation'] == 'Construction & Extraction', 'occupation'] = 14\n",
    "x_test.loc[x_test['occupation'] == 'Legal', 'occupation'] = 15\n",
    "x_test.loc[x_test['occupation'] == 'Retired', 'occupation'] = 16\n",
    "x_test.loc[x_test['occupation'] == 'Production Occupations', 'occupation'] = 17\n",
    "x_test.loc[x_test['occupation'] == 'Building & Grounds Cleaning & Maintenance', 'occupation'] = 18\n",
    "x_test.loc[x_test['occupation'] == 'Farming Fishing & Forestry', 'occupation'] = 19\n",
    "x_test.loc[x_test['occupation'] == 'Food Preparation & Serving Related', 'occupation'] = 20\n",
    "x_test.loc[x_test['occupation'] == 'Installation Maintenance & Repair', 'occupation'] = 21\n",
    "x_test.loc[x_test['occupation'] == 'Transportation & Material Moving', 'occupation'] = 22\n",
    "x_test.loc[x_test['occupation'] == 'Business & Financial', 'occupation'] = 23\n",
    "x_test.loc[x_test['occupation'] == 'Protective Service', 'occupation'] = 24\n",
    "x_test['occupation'] = x_test['occupation'].astype(int)\n",
    "\n",
    "'''income: $37500 - $49999, $62500 - $74999, $12500 - $24999, $75000 - $87499, $50000 - $62499, $25000 - $37499,\n",
    "            $100000 or More, $87500 - $99999, Less than $12500'''\n",
    "x_test.loc[x_test['income'] == '$100000 or More', 'income'] = 0\n",
    "x_test.loc[x_test['income'] == '$87500 - $99999', 'income'] = 1\n",
    "x_test.loc[x_test['income'] == '$75000 - $87499', 'income'] = 2\n",
    "x_test.loc[x_test['income'] == '$62500 - $74999', 'income'] = 3\n",
    "x_test.loc[x_test['income'] == '$50000 - $62499', 'income'] = 4\n",
    "x_test.loc[x_test['income'] == '$37500 - $49999', 'income'] = 5\n",
    "x_test.loc[x_test['income'] == '$25000 - $37499', 'income'] = 6\n",
    "x_test.loc[x_test['income'] == '$12500 - $24999', 'income'] = 7\n",
    "x_test.loc[x_test['income'] == 'Less than $12500', 'income'] = 8\n",
    "x_test['income'] = x_test['income'].astype(int)\n",
    "\n",
    "#Bar: never, less1, 1~3, gt8, nan, 4~8\n",
    "x_test.loc[x_test['Bar'] == 'never' , 'Bar'] = 0\n",
    "x_test.loc[x_test['Bar'] == 'less1' , 'Bar'] = 1\n",
    "x_test.loc[x_test['Bar'] == '1~3' , 'Bar'] = 2\n",
    "x_test.loc[x_test['Bar'] == '4~8' , 'Bar'] = 3\n",
    "x_test.loc[x_test['Bar'] == 'gt8' , 'Bar'] = 4\n",
    "x_test.loc[x_test['Bar'] == 'nan' , 'Bar'] = 5\n",
    "x_test['Bar'] = x_test['Bar'].astype(int)\n",
    "\n",
    "#CoffeeHouse: never, less1, 4~8, 1~3, gt8, nan\n",
    "x_test.loc[x_test['CoffeeHouse'] == 'never' , 'CoffeeHouse'] = 0\n",
    "x_test.loc[x_test['CoffeeHouse'] == 'less1' , 'CoffeeHouse'] = 1\n",
    "x_test.loc[x_test['CoffeeHouse'] == '1~3' , 'CoffeeHouse'] = 2\n",
    "x_test.loc[x_test['CoffeeHouse'] == '4~8' , 'CoffeeHouse'] = 3\n",
    "x_test.loc[x_test['CoffeeHouse'] == 'gt8' , 'CoffeeHouse'] = 4\n",
    "x_test.loc[x_test['CoffeeHouse'] == 'nan' , 'CoffeeHouse'] = 5\n",
    "x_test['CoffeeHouse'] = x_test['CoffeeHouse'].astype(int)\n",
    "\n",
    "\n",
    "#RestaurantLessThan20: 4~8, 1~3, less1, gt8, never\n",
    "x_test.loc[x_test['RestaurantLessThan20'] == 'never' , 'RestaurantLessThan20'] = 0\n",
    "x_test.loc[x_test['RestaurantLessThan20'] == 'less1' , 'RestaurantLessThan20'] = 1\n",
    "x_test.loc[x_test['RestaurantLessThan20'] == '1~3' , 'RestaurantLessThan20'] = 2\n",
    "x_test.loc[x_test['RestaurantLessThan20'] == '4~8' , 'RestaurantLessThan20'] = 3\n",
    "x_test.loc[x_test['RestaurantLessThan20'] == 'gt8' , 'RestaurantLessThan20'] = 4\n",
    "x_test.loc[x_test['RestaurantLessThan20'] == 'nan' , 'RestaurantLessThan20'] = 5\n",
    "x_test['RestaurantLessThan20'] = x_test['RestaurantLessThan20'].astype(int)\n",
    "\n",
    "#Restaurant20To50: 1~3, less1, never, gt8, 4~8, nan\n",
    "x_test.loc[x_test['Restaurant20To50'] == 'never' , 'Restaurant20To50'] = 0\n",
    "x_test.loc[x_test['Restaurant20To50'] == 'less1' , 'Restaurant20To50'] = 1\n",
    "x_test.loc[x_test['Restaurant20To50'] == '1~3' , 'Restaurant20To50'] = 2\n",
    "x_test.loc[x_test['Restaurant20To50'] == '4~8' , 'Restaurant20To50'] = 3\n",
    "x_test.loc[x_test['Restaurant20To50'] == 'gt8' , 'Restaurant20To50'] = 4\n",
    "x_test.loc[x_test['Restaurant20To50'] == 'nan' , 'Restaurant20To50'] = 5\n",
    "x_test['Restaurant20To50'] = x_test['Restaurant20To50'].astype(int)\n"
   ]
  },
  {
   "cell_type": "code",
   "execution_count": 30,
   "id": "60cb6c3b-0ccb-47d9-9987-fe7a30eefb6f",
   "metadata": {
    "tags": []
   },
   "outputs": [
    {
     "name": "stdout",
     "output_type": "stream",
     "text": [
      "(8147, 22)\n",
      "(2500, 22)\n"
     ]
    }
   ],
   "source": [
    "print(x_train.shape) # X_train is your training data\n",
    "print(x_test.shape)   # X_test is your test data"
   ]
  },
  {
   "cell_type": "code",
   "execution_count": 32,
   "id": "c1ed91c6-25ee-4253-9ef5-f9cd6258d5f0",
   "metadata": {
    "tags": []
   },
   "outputs": [],
   "source": [
    "\n",
    "pred_result=model.predict(x_test)"
   ]
  },
  {
   "cell_type": "code",
   "execution_count": 33,
   "id": "99978642-564a-4f2c-ac5d-4512ded09100",
   "metadata": {
    "tags": []
   },
   "outputs": [],
   "source": [
    "#會出預測資料\n",
    "import csv\n",
    "with open(\"prediction.csv\", \"w\", newline=\"\") as csvfile:\n",
    "    writer = csv.writer(csvfile)\n",
    "    writer.writerow([\"Id\", \"Label\"])\n",
    "    for i in range(len(pred_result)):\n",
    "        writer.writerow([(i+1), pred_result[i]])\n",
    "        i = i+1"
   ]
  },
  {
   "cell_type": "code",
   "execution_count": null,
   "id": "fbd4c23a-4054-48cb-91e9-6b31a95e8a6a",
   "metadata": {},
   "outputs": [],
   "source": []
  }
 ],
 "metadata": {
  "kernelspec": {
   "display_name": "Python 3 (ipykernel)",
   "language": "python",
   "name": "python3"
  },
  "language_info": {
   "codemirror_mode": {
    "name": "ipython",
    "version": 3
   },
   "file_extension": ".py",
   "mimetype": "text/x-python",
   "name": "python",
   "nbconvert_exporter": "python",
   "pygments_lexer": "ipython3",
   "version": "3.11.4"
  }
 },
 "nbformat": 4,
 "nbformat_minor": 5
}
